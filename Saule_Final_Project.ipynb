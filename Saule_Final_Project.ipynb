{
  "metadata": {
    "kernelspec": {
      "name": "python",
      "display_name": "Python (Pyodide)",
      "language": "python"
    },
    "language_info": {
      "codemirror_mode": {
        "name": "python",
        "version": 3
      },
      "file_extension": ".py",
      "mimetype": "text/x-python",
      "name": "python",
      "nbconvert_exporter": "python",
      "pygments_lexer": "ipython3",
      "version": "3.8"
    }
  },
  "nbformat_minor": 4,
  "nbformat": 4,
  "cells": [
    {
      "cell_type": "markdown",
      "source": "## Saule Final Project",
      "metadata": {}
    },
    {
      "cell_type": "markdown",
      "source": "### This is an introduction to the Final Project",
      "metadata": {}
    },
    {
      "cell_type": "markdown",
      "source": "**Data Science Languages**\n* Python\n* R\n* SQL\n* C++\n* Java\n* Julia ",
      "metadata": {}
    },
    {
      "cell_type": "markdown",
      "source": "**Data Science Libraries**\n* NumPy\n* SciPy\n* Pandas\n* Matplotlib",
      "metadata": {}
    },
    {
      "cell_type": "markdown",
      "source": "**Data Science Tools**\n| Type |Examples |\n|---|---|\n| Data Management Tools | MySQL, MongoDB, Apache Hadoop |\n| Data Integration and Transformation Tools | Apache Airflow, Apache Kafka |\n| Data Visualization tools | Tableau, PowerBI |\n| Code Asset Management Tools | Git, GitHub |",
      "metadata": {}
    },
    {
      "cell_type": "markdown",
      "source": "Arithmetic expression examples will be introduced here",
      "metadata": {}
    },
    {
      "cell_type": "code",
      "source": "# Addition\n10+12",
      "metadata": {
        "trusted": true
      },
      "outputs": [
        {
          "execution_count": 6,
          "output_type": "execute_result",
          "data": {
            "text/plain": "22"
          },
          "metadata": {}
        }
      ],
      "execution_count": 6
    },
    {
      "cell_type": "code",
      "source": "# Multiplication\n8*8",
      "metadata": {
        "trusted": true
      },
      "outputs": [
        {
          "execution_count": 7,
          "output_type": "execute_result",
          "data": {
            "text/plain": "64"
          },
          "metadata": {}
        }
      ],
      "execution_count": 7
    },
    {
      "cell_type": "code",
      "source": "# Convert minutes to hours (change the nominator to the desired minute conversion)\n50/60",
      "metadata": {
        "trusted": true
      },
      "outputs": [
        {
          "execution_count": 14,
          "output_type": "execute_result",
          "data": {
            "text/plain": "0.8333333333333334"
          },
          "metadata": {}
        }
      ],
      "execution_count": 14
    },
    {
      "cell_type": "markdown",
      "source": "**Objectives for the course**\n* Become familiar with data science toolkit components\n* Learn about the popular tools in data science (open source/commercial/web-based)\n* Work with JupyterLab, RStudio, Git, and GitHub",
      "metadata": {}
    },
    {
      "cell_type": "markdown",
      "source": "**Author's Name**: Saule",
      "metadata": {}
    },
    {
      "cell_type": "code",
      "source": "",
      "metadata": {
        "trusted": true
      },
      "outputs": [],
      "execution_count": null
    }
  ]
}